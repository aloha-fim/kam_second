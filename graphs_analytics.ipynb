{
 "cells": [
  {
   "cell_type": "code",
   "execution_count": 4,
   "metadata": {},
   "outputs": [
    {
     "data": {
      "text/html": [
       "<div>\n",
       "<style scoped>\n",
       "    .dataframe tbody tr th:only-of-type {\n",
       "        vertical-align: middle;\n",
       "    }\n",
       "\n",
       "    .dataframe tbody tr th {\n",
       "        vertical-align: top;\n",
       "    }\n",
       "\n",
       "    .dataframe thead th {\n",
       "        text-align: right;\n",
       "    }\n",
       "</style>\n",
       "<table border=\"1\" class=\"dataframe\">\n",
       "  <thead>\n",
       "    <tr style=\"text-align: right;\">\n",
       "      <th></th>\n",
       "      <th>Unnamed: 0</th>\n",
       "      <th>category</th>\n",
       "      <th>rang</th>\n",
       "      <th>full_name</th>\n",
       "      <th>age_year</th>\n",
       "      <th>location</th>\n",
       "      <th>total_time</th>\n",
       "      <th>run_link</th>\n",
       "      <th>run_year</th>\n",
       "      <th>Unnamed: 9</th>\n",
       "      <th>Unnamed: 10</th>\n",
       "    </tr>\n",
       "  </thead>\n",
       "  <tbody>\n",
       "    <tr>\n",
       "      <th>0</th>\n",
       "      <td>0</td>\n",
       "      <td>10-M16</td>\n",
       "      <td>14</td>\n",
       "      <td>Arthaber Tobias</td>\n",
       "      <td>1998</td>\n",
       "      <td>Wangs</td>\n",
       "      <td>51.52,9</td>\n",
       "      <td>https://services.datasport.com/2014/lauf/zueri...</td>\n",
       "      <td>2014</td>\n",
       "      <td>NaN</td>\n",
       "      <td>NaN</td>\n",
       "    </tr>\n",
       "    <tr>\n",
       "      <th>1</th>\n",
       "      <td>1</td>\n",
       "      <td>10-M16</td>\n",
       "      <td>4</td>\n",
       "      <td>Avdullahu Leonardo Giu</td>\n",
       "      <td>1998</td>\n",
       "      <td>Räterschen</td>\n",
       "      <td>44.21,9</td>\n",
       "      <td>https://services.datasport.com/2014/lauf/zueri...</td>\n",
       "      <td>2014</td>\n",
       "      <td>NaN</td>\n",
       "      <td>NaN</td>\n",
       "    </tr>\n",
       "    <tr>\n",
       "      <th>2</th>\n",
       "      <td>2</td>\n",
       "      <td>10-M20</td>\n",
       "      <td>92</td>\n",
       "      <td>Abramowski Rajan</td>\n",
       "      <td>1994</td>\n",
       "      <td>Flawil</td>\n",
       "      <td>44.51,6</td>\n",
       "      <td>https://services.datasport.com/2014/lauf/zueri...</td>\n",
       "      <td>2014</td>\n",
       "      <td>NaN</td>\n",
       "      <td>NaN</td>\n",
       "    </tr>\n",
       "    <tr>\n",
       "      <th>3</th>\n",
       "      <td>3</td>\n",
       "      <td>10-M20</td>\n",
       "      <td>61</td>\n",
       "      <td>Adank Andri</td>\n",
       "      <td>1986</td>\n",
       "      <td>Zürich</td>\n",
       "      <td>43.11,6</td>\n",
       "      <td>https://services.datasport.com/2014/lauf/zueri...</td>\n",
       "      <td>2014</td>\n",
       "      <td>NaN</td>\n",
       "      <td>NaN</td>\n",
       "    </tr>\n",
       "    <tr>\n",
       "      <th>4</th>\n",
       "      <td>4</td>\n",
       "      <td>10-M20</td>\n",
       "      <td>148</td>\n",
       "      <td>Ang Cheng Choon</td>\n",
       "      <td>1986</td>\n",
       "      <td>Zürich</td>\n",
       "      <td>49.52,7</td>\n",
       "      <td>https://services.datasport.com/2014/lauf/zueri...</td>\n",
       "      <td>2014</td>\n",
       "      <td>NaN</td>\n",
       "      <td>NaN</td>\n",
       "    </tr>\n",
       "  </tbody>\n",
       "</table>\n",
       "</div>"
      ],
      "text/plain": [
       "   Unnamed: 0 category rang               full_name age_year    location  \\\n",
       "0           0   10-M16   14         Arthaber Tobias     1998       Wangs   \n",
       "1           1   10-M16    4  Avdullahu Leonardo Giu     1998  Räterschen   \n",
       "2           2   10-M20   92        Abramowski Rajan     1994      Flawil   \n",
       "3           3   10-M20   61             Adank Andri     1986      Zürich   \n",
       "4           4   10-M20  148         Ang Cheng Choon     1986      Zürich   \n",
       "\n",
       "  total_time                                           run_link  run_year  \\\n",
       "0    51.52,9  https://services.datasport.com/2014/lauf/zueri...      2014   \n",
       "1    44.21,9  https://services.datasport.com/2014/lauf/zueri...      2014   \n",
       "2    44.51,6  https://services.datasport.com/2014/lauf/zueri...      2014   \n",
       "3    43.11,6  https://services.datasport.com/2014/lauf/zueri...      2014   \n",
       "4    49.52,7  https://services.datasport.com/2014/lauf/zueri...      2014   \n",
       "\n",
       "   Unnamed: 9  Unnamed: 10  \n",
       "0         NaN          NaN  \n",
       "1         NaN          NaN  \n",
       "2         NaN          NaN  \n",
       "3         NaN          NaN  \n",
       "4         NaN          NaN  "
      ]
     },
     "execution_count": 4,
     "metadata": {},
     "output_type": "execute_result"
    }
   ],
   "source": [
    "\n",
    "import pandas as pd\n",
    "\n",
    "df = pd.read_csv('./data/predefined_users_a.csv', encoding = \"ISO-8859-1\")\n",
    "\n",
    "#category,rang,full_name,age_year,location,total_time,run_link,run_year\n",
    "df.head()"
   ]
  },
  {
   "cell_type": "code",
   "execution_count": 6,
   "metadata": {},
   "outputs": [
    {
     "data": {
      "text/plain": [
       "count    1081.000000\n",
       "mean     2016.086957\n",
       "std         1.435601\n",
       "min      2014.000000\n",
       "25%      2015.000000\n",
       "50%      2016.000000\n",
       "75%      2017.000000\n",
       "max      2018.000000\n",
       "Name: run_year, dtype: float64"
      ]
     },
     "execution_count": 6,
     "metadata": {},
     "output_type": "execute_result"
    }
   ],
   "source": [
    "df['run_year'].describe()"
   ]
  },
  {
   "cell_type": "code",
   "execution_count": 2,
   "metadata": {},
   "outputs": [
    {
     "data": {
      "text/plain": [
       "0    [-0.015397894196212292, -0.01773764193058014, ...\n",
       "1    [-0.00929059274494648, -0.020558182150125504, ...\n",
       "2    [-0.033477865159511566, -0.006381461396813393,...\n",
       "3    [-0.007981229573488235, -0.007317785639315844,...\n",
       "4    [0.0017258328152820468, -0.013118949718773365,...\n",
       "Name: ada_v2, dtype: object"
      ]
     },
     "execution_count": 2,
     "metadata": {},
     "output_type": "execute_result"
    }
   ],
   "source": [
    "import pandas as pd\n",
    "\n",
    "df = pd.read_csv('./data/postdefined_users_azure_data.csv', encoding = \"ISO-8859-1\")\n",
    "\n",
    "#category,rang,full_name,age_year,location,total_time,run_link,run_year\n",
    "df['ada_v2'].head()"
   ]
  },
  {
   "cell_type": "code",
   "execution_count": 4,
   "metadata": {},
   "outputs": [
    {
     "data": {
      "text/plain": [
       "(33,)"
      ]
     },
     "execution_count": 4,
     "metadata": {},
     "output_type": "execute_result"
    }
   ],
   "source": [
    "df['ada_v2'].shape"
   ]
  },
  {
   "cell_type": "code",
   "execution_count": null,
   "metadata": {},
   "outputs": [],
   "source": []
  }
 ],
 "metadata": {
  "kernelspec": {
   "display_name": "venv",
   "language": "python",
   "name": "python3"
  },
  "language_info": {
   "codemirror_mode": {
    "name": "ipython",
    "version": 3
   },
   "file_extension": ".py",
   "mimetype": "text/x-python",
   "name": "python",
   "nbconvert_exporter": "python",
   "pygments_lexer": "ipython3",
   "version": "3.10.4"
  }
 },
 "nbformat": 4,
 "nbformat_minor": 2
}
